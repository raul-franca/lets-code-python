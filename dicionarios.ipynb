{
 "cells": [
  {
   "cell_type": "markdown",
   "source": [
    "### Aula 04 - Dicionários https://www.youtube.com/watch?v=3HPgSZ0kpl0&t=17s\n"
   ],
   "metadata": {
    "collapsed": false,
    "pycharm": {
     "name": "#%% md\n"
    }
   }
  },
  {
   "cell_type": "code",
   "execution_count": 3,
   "outputs": [
    {
     "name": "stdout",
     "output_type": "stream",
     "text": [
      "{'nome': 'Recife', 'estado': 'Pernambuco', 'area_km2': 218, 'populacao_milhoes': 1.661} <class 'dict'>\n"
     ]
    }
   ],
   "source": [
    "cidade = {\n",
    "    \"nome\" : \"Recife\",\n",
    "    \"estado\" : \"Pernambuco\",\n",
    "    \"area_km2\" : 218,\n",
    "    \"populacao_milhoes\" : 1.661\n",
    "}\n",
    "print(cidade, type(cidade))"
   ],
   "metadata": {
    "collapsed": false,
    "pycharm": {
     "name": "#%%\n"
    }
   }
  },
  {
   "cell_type": "code",
   "execution_count": 7,
   "outputs": [
    {
     "name": "stdout",
     "output_type": "stream",
     "text": [
      "{'nome': 'Caruaru', 'estado': 'Pernambuco', 'area_km2': 218, 'populacao_milhoes': 1.661}\n"
     ]
    }
   ],
   "source": [
    "cidade2 = cidade\n",
    "cidade2[\"nome\"] = \"Caruaru\"\n",
    "print(cidade)"
   ],
   "metadata": {
    "collapsed": false,
    "pycharm": {
     "name": "#%%\n"
    }
   }
  },
  {
   "cell_type": "code",
   "execution_count": 10,
   "outputs": [
    {
     "name": "stdout",
     "output_type": "stream",
     "text": [
      "{'nome': 'Caruaru', 'estado': 'Pernambuco', 'area_km2': 218, 'populacao_milhoes': 1.661}\n",
      "{'nome': 'Gravatá', 'estado': 'Pernambuco', 'area_km2': 218, 'populacao_milhoes': 1.661}\n"
     ]
    }
   ],
   "source": [
    "cidade3 = cidade.copy()\n",
    "cidade3[\"nome\"] = \"Gravatá\"\n",
    "print(cidade)\n",
    "print(cidade3)"
   ],
   "metadata": {
    "collapsed": false,
    "pycharm": {
     "name": "#%%\n"
    }
   }
  },
  {
   "cell_type": "code",
   "execution_count": 11,
   "outputs": [
    {
     "name": "stdout",
     "output_type": "stream",
     "text": [
      "{'nome': 'Recife', 'estado': 'Pernambuco', 'area_km2': 218, 'populacao_milhoes': 1.661, 'Fundacao': '12/03/1537'}\n",
      "{'nome': 'Recife', 'estado': 'Pernambuco', 'area_km2': 218, 'populacao_milhoes': 1.661, 'Fundacao': '12/03/1537'}\n"
     ]
    }
   ],
   "source": [
    "novos_dados = {\n",
    "    \"nome\": \"Recife\",\n",
    "    \"Fundacao\": \"12/03/1537\"\n",
    "}\n",
    "cidade.update( novos_dados )\n",
    "print( cidade )\n",
    "print( cidade2 )"
   ],
   "metadata": {
    "collapsed": false,
    "pycharm": {
     "name": "#%%\n"
    }
   }
  },
  {
   "cell_type": "code",
   "execution_count": 14,
   "outputs": [
    {
     "name": "stdout",
     "output_type": "stream",
     "text": [
      "None\n"
     ]
    }
   ],
   "source": [
    "print( cidade.get(\"prefeito\") )     # caso a chave nao Exista não retorna erro"
   ],
   "metadata": {
    "collapsed": false,
    "pycharm": {
     "name": "#%%\n"
    }
   }
  },
  {
   "cell_type": "code",
   "execution_count": 15,
   "outputs": [
    {
     "name": "stdout",
     "output_type": "stream",
     "text": [
      "dict_keys(['nome', 'estado', 'area_km2', 'populacao_milhoes', 'Fundacao'])\n",
      "---------\n",
      "dict_values(['Recife', 'Pernambuco', 218, 1.661, '12/03/1537'])\n",
      "---------\n",
      "dict_items([('nome', 'Recife'), ('estado', 'Pernambuco'), ('area_km2', 218), ('populacao_milhoes', 1.661), ('Fundacao', '12/03/1537')])\n"
     ]
    }
   ],
   "source": [
    "print( cidade.keys() )      # retorna lista de chaves\n",
    "print(\"---------\")\n",
    "print( cidade.values() )    # retorna lista de valores\n",
    "print(\"---------\")\n",
    "print( cidade.items() )     # retorna uma lista de tuplas (chave e valor) de um dicionario"
   ],
   "metadata": {
    "collapsed": false,
    "pycharm": {
     "name": "#%%\n"
    }
   }
  },
  {
   "cell_type": "code",
   "execution_count": null,
   "outputs": [],
   "source": [],
   "metadata": {
    "collapsed": false,
    "pycharm": {
     "name": "#%%\n"
    }
   }
  }
 ],
 "metadata": {
  "kernelspec": {
   "display_name": "Python 3",
   "language": "python",
   "name": "python3"
  },
  "language_info": {
   "codemirror_mode": {
    "name": "ipython",
    "version": 2
   },
   "file_extension": ".py",
   "mimetype": "text/x-python",
   "name": "python",
   "nbconvert_exporter": "python",
   "pygments_lexer": "ipython2",
   "version": "2.7.6"
  }
 },
 "nbformat": 4,
 "nbformat_minor": 0
}