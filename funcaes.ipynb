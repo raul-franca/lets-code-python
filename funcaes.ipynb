{
 "cells": [
  {
   "cell_type": "markdown",
   "source": [
    "### Aula 06 - Funções I\n",
    "    https://www.youtube.com/watch?v=KDfWXV-AAgY"
   ],
   "metadata": {
    "collapsed": false
   }
  },
  {
   "cell_type": "code",
   "execution_count": 3,
   "outputs": [],
   "source": [
    "def hello():\n",
    "    print(\"Olá, mundo!\")"
   ],
   "metadata": {
    "collapsed": false
   }
  },
  {
   "cell_type": "code",
   "execution_count": 4,
   "outputs": [
    {
     "name": "stdout",
     "output_type": "stream",
     "text": [
      "Olá, mundo!\n"
     ]
    }
   ],
   "source": [
    "hello()"
   ],
   "metadata": {
    "collapsed": false
   }
  },
  {
   "cell_type": "code",
   "execution_count": 11,
   "outputs": [
    {
     "name": "stdout",
     "output_type": "stream",
     "text": [
      "5\n"
     ]
    }
   ],
   "source": [
    "x = 1\n",
    "a = 5\n",
    "for i in [1, 5]:\n",
    "    x = x * i\n",
    "\n",
    "print(x)"
   ],
   "metadata": {
    "collapsed": false
   }
  },
  {
   "cell_type": "code",
   "execution_count": 9,
   "outputs": [
    {
     "name": "stdout",
     "output_type": "stream",
     "text": [
      "5\n"
     ]
    }
   ],
   "source": [
    "\n",
    "def punk(x):\n",
    "    f = 1\n",
    "    for j in [1, x]:\n",
    "        f = f * j\n",
    "    return f\n",
    "\n",
    "print(punk(5))"
   ],
   "metadata": {
    "collapsed": false
   }
  },
  {
   "cell_type": "code",
   "execution_count": 17,
   "outputs": [
    {
     "data": {
      "text/plain": "'quack'"
     },
     "execution_count": 17,
     "metadata": {},
     "output_type": "execute_result"
    }
   ],
   "source": [
    "def penguins(a, k):\n",
    "    f = False\n",
    "\n",
    "    for i in range(len(a)):\n",
    "        if a[i] == k:\n",
    "            f = True\n",
    "\n",
    "    if f:\n",
    "        return 'quack'\n",
    "    else:\n",
    "        return 'wave'\n",
    "k =7\n",
    "penguins([10,9,13,1,13,2,8,5,7,1,20,6,4,18,19,17,5,19,9,18],k)"
   ],
   "metadata": {
    "collapsed": false
   }
  },
  {
   "cell_type": "code",
   "execution_count": 10,
   "outputs": [
    {
     "name": "stdout",
     "output_type": "stream",
     "text": [
      "120\n"
     ]
    }
   ],
   "source": [
    "\n",
    "k = 1\n",
    "i = 1\n",
    "\n",
    "while k <= a:\n",
    "    i = i * k\n",
    "    k = k + 1\n",
    "\n",
    "print(i)"
   ],
   "metadata": {
    "collapsed": false
   }
  },
  {
   "cell_type": "code",
   "execution_count": 18,
   "outputs": [
    {
     "ename": "SyntaxError",
     "evalue": "invalid syntax (281495372.py, line 3)",
     "output_type": "error",
     "traceback": [
      "\u001B[0;36m  Input \u001B[0;32mIn [18]\u001B[0;36m\u001B[0m\n\u001B[0;31m    for i = 0; i < len(a); i++:\u001B[0m\n\u001B[0m          ^\u001B[0m\n\u001B[0;31mSyntaxError\u001B[0m\u001B[0;31m:\u001B[0m invalid syntax\n"
     ]
    }
   ],
   "source": [
    "a = [0, 2, 7, 4, 2, 1]\n",
    "r = 0\n",
    "for i = 0; i < len(a); i++:\n",
    "    if a[i] < len(a) :\n",
    "        r = r + a[i]"
   ],
   "metadata": {
    "collapsed": false
   }
  },
  {
   "cell_type": "code",
   "execution_count": 7,
   "outputs": [],
   "source": [
    "def calcula_media(val1, val2, val3):\n",
    "    soma = val1 + val2 + val3\n",
    "    media = soma / 3\n",
    "    return media"
   ],
   "metadata": {
    "collapsed": false
   }
  },
  {
   "cell_type": "code",
   "execution_count": null,
   "outputs": [],
   "source": [],
   "metadata": {
    "collapsed": false
   }
  },
  {
   "cell_type": "code",
   "execution_count": 10,
   "outputs": [
    {
     "name": "stdout",
     "output_type": "stream",
     "text": [
      "5.0\n"
     ]
    }
   ],
   "source": [
    "media_1 = calcula_media(4,6,8)\n",
    "media_2 = calcula_media(8,5,2)\n",
    "media_3 = calcula_media(2,4,6)\n",
    "print(calcula_media(media_1,media_2,media_3))"
   ],
   "metadata": {
    "collapsed": false
   }
  },
  {
   "cell_type": "markdown",
   "source": [
    "Declarando funções com o valor default:\n",
    "    * Sempre que houver valores default e não default os não default vem primeiro"
   ],
   "metadata": {
    "collapsed": false
   }
  },
  {
   "cell_type": "code",
   "execution_count": 11,
   "outputs": [],
   "source": [
    "def divisao( numerador, denominador=1 ):\n",
    "    if denominador == 0 :\n",
    "        return 0\n",
    "    else:\n",
    "        return numerador / denominador"
   ],
   "metadata": {
    "collapsed": false
   }
  },
  {
   "cell_type": "code",
   "execution_count": 14,
   "outputs": [
    {
     "name": "stdout",
     "output_type": "stream",
     "text": [
      "4.0\n"
     ]
    }
   ],
   "source": [
    "print( divisao(4) )"
   ],
   "metadata": {
    "collapsed": false
   }
  },
  {
   "cell_type": "code",
   "execution_count": 13,
   "outputs": [
    {
     "name": "stdout",
     "output_type": "stream",
     "text": [
      "3.0\n"
     ]
    }
   ],
   "source": [
    "print( divisao( 6,2 ) )"
   ],
   "metadata": {
    "collapsed": false
   }
  },
  {
   "cell_type": "markdown",
   "source": [
    "### Aula 07 - Funções II\n",
    "    https://www.youtube.com/watch?v=dWaxLS-kjxo"
   ],
   "metadata": {
    "collapsed": false
   }
  },
  {
   "cell_type": "code",
   "execution_count": 15,
   "outputs": [],
   "source": [
    "def calcula_media_args(*args):\n",
    "    print(args, type(args))"
   ],
   "metadata": {
    "collapsed": false
   }
  },
  {
   "cell_type": "code",
   "execution_count": 16,
   "outputs": [
    {
     "name": "stdout",
     "output_type": "stream",
     "text": [
      "(10, 9, 8) <class 'tuple'>\n"
     ]
    }
   ],
   "source": [
    "calcula_media_args(10,9,8)"
   ],
   "metadata": {
    "collapsed": false
   }
  },
  {
   "cell_type": "code",
   "execution_count": 17,
   "outputs": [],
   "source": [
    "def calcula_media_args(*args):\n",
    "    return sum(args) / len(args)"
   ],
   "metadata": {
    "collapsed": false
   }
  },
  {
   "cell_type": "code",
   "execution_count": 18,
   "outputs": [
    {
     "name": "stdout",
     "output_type": "stream",
     "text": [
      "7.5\n"
     ]
    }
   ],
   "source": [
    "print( calcula_media_args(10,9,8,7,6,5) )"
   ],
   "metadata": {
    "collapsed": false
   }
  },
  {
   "cell_type": "code",
   "execution_count": 21,
   "outputs": [],
   "source": [
    "def print_info(**kwargs):\n",
    "    print(kwargs,type(kwargs))"
   ],
   "metadata": {
    "collapsed": false
   }
  },
  {
   "cell_type": "code",
   "execution_count": 23,
   "outputs": [
    {
     "name": "stdout",
     "output_type": "stream",
     "text": [
      "{'nome': 'Raul', 'sobrenome': 'França'} <class 'dict'>\n"
     ]
    }
   ],
   "source": [
    "print_info( nome=\"Raul\",sobrenome=\"França\" )"
   ],
   "metadata": {
    "collapsed": false
   }
  },
  {
   "cell_type": "code",
   "execution_count": 25,
   "outputs": [],
   "source": [
    "def par_ou_impar(*args):\n",
    "    impar = []\n",
    "    par=[]\n",
    "    for num in args:\n",
    "        if ( num % 2 ) >= 1:\n",
    "            impar.append(num)\n",
    "        else:\n",
    "            par.append(num)\n",
    "    print(par,impar)"
   ],
   "metadata": {
    "collapsed": false
   }
  },
  {
   "cell_type": "code",
   "execution_count": 26,
   "outputs": [
    {
     "name": "stdout",
     "output_type": "stream",
     "text": [
      "[0, 2, 4, 6, 8, 10, 12, 14] [1, 3, 5, 7, 9, 11, 13]\n"
     ]
    }
   ],
   "source": [
    "par_ou_impar(0,1,2,3,4,5,6,7,8,9,10,11,12,13,14)"
   ],
   "metadata": {
    "collapsed": false
   }
  },
  {
   "cell_type": "code",
   "execution_count": 32,
   "outputs": [
    {
     "name": "stdout",
     "output_type": "stream",
     "text": [
      "[0, 1, 2, 3, 4, 5, 6, 7, 8, 9, 10] <class 'list'>\n"
     ]
    }
   ],
   "source": [
    "numeros = list(range(11))\n",
    "print(numeros,type(numeros))"
   ],
   "metadata": {
    "collapsed": false
   }
  },
  {
   "cell_type": "code",
   "execution_count": 34,
   "outputs": [
    {
     "name": "stdout",
     "output_type": "stream",
     "text": [
      "[0, 2, 4, 6, 8, 10] [1, 3, 5, 7, 9]\n"
     ]
    }
   ],
   "source": [
    "\n",
    "par_ou_impar(*numeros)  # * passa os numeros fora do formato lista lista"
   ],
   "metadata": {
    "collapsed": false
   }
  },
  {
   "cell_type": "code",
   "execution_count": null,
   "outputs": [],
   "source": [],
   "metadata": {
    "collapsed": false
   }
  }
 ],
 "metadata": {
  "kernelspec": {
   "display_name": "Python 3",
   "language": "python",
   "name": "python3"
  },
  "language_info": {
   "codemirror_mode": {
    "name": "ipython",
    "version": 2
   },
   "file_extension": ".py",
   "mimetype": "text/x-python",
   "name": "python",
   "nbconvert_exporter": "python",
   "pygments_lexer": "ipython2",
   "version": "2.7.6"
  }
 },
 "nbformat": 4,
 "nbformat_minor": 0
}
