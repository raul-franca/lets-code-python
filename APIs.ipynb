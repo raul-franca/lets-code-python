{
 "cells": [
  {
   "cell_type": "markdown",
   "source": [
    "### Aula 03 - APIs\n",
    "    https://www.youtube.com/watch?v=p0aOJYKfbPQ"
   ],
   "metadata": {
    "collapsed": false,
    "pycharm": {
     "name": "#%% md\n"
    }
   }
  },
  {
   "cell_type": "code",
   "execution_count": 2,
   "outputs": [],
   "source": [
    "import requests"
   ],
   "metadata": {
    "collapsed": false,
    "pycharm": {
     "name": "#%%\n"
    }
   }
  },
  {
   "cell_type": "code",
   "execution_count": 5,
   "outputs": [
    {
     "name": "stdout",
     "output_type": "stream",
     "text": [
      "200\n"
     ]
    }
   ],
   "source": [
    "url = 'https://v6.exchangerate-api.com/v6/d7e68c7dc7834956ace717e3/latest/USD'\n",
    "\n",
    "# Making our request\n",
    "req = requests.get(url)\n",
    "\n",
    "print(req.status_code)\n"
   ],
   "metadata": {
    "collapsed": false,
    "pycharm": {
     "name": "#%%\n"
    }
   }
  },
  {
   "cell_type": "code",
   "execution_count": 6,
   "outputs": [
    {
     "name": "stdout",
     "output_type": "stream",
     "text": [
      "{'result': 'success', 'documentation': 'https://www.exchangerate-api.com/docs', 'terms_of_use': 'https://www.exchangerate-api.com/terms', 'time_last_update_unix': 1663286401, 'time_last_update_utc': 'Fri, 16 Sep 2022 00:00:01 +0000', 'time_next_update_unix': 1663372801, 'time_next_update_utc': 'Sat, 17 Sep 2022 00:00:01 +0000', 'base_code': 'USD', 'conversion_rates': {'USD': 1, 'AED': 3.6725, 'AFN': 88.0142, 'ALL': 116.9328, 'AMD': 410.3397, 'ANG': 1.79, 'AOA': 427.9763, 'ARS': 142.2916, 'AUD': 1.4894, 'AWG': 1.79, 'AZN': 1.6944, 'BAM': 1.9579, 'BBD': 2.0, 'BDT': 103.1457, 'BGN': 1.9578, 'BHD': 0.376, 'BIF': 2038.3632, 'BMD': 1.0, 'BND': 1.4085, 'BOB': 6.8941, 'BRL': 5.1916, 'BSD': 1.0, 'BTN': 79.6307, 'BWP': 13.0632, 'BYN': 2.7088, 'BZD': 2.0, 'CAD': 1.3207, 'CDF': 2020.5893, 'CHF': 0.9607, 'CLP': 920.3518, 'CNY': 6.9895, 'COP': 4387.7306, 'CRC': 636.3718, 'CUP': 24.0, 'CVE': 110.3805, 'CZK': 24.5513, 'DJF': 177.721, 'DKK': 7.4682, 'DOP': 53.2946, 'DZD': 140.7098, 'EGP': 19.3415, 'ERN': 15.0, 'ETB': 52.6302, 'EUR': 1.0011, 'FJD': 2.2348, 'FKP': 0.8715, 'FOK': 7.4682, 'GBP': 0.8715, 'GEL': 2.8244, 'GGP': 0.8715, 'GHS': 10.2162, 'GIP': 0.8715, 'GMD': 55.4131, 'GNF': 8596.1289, 'GTQ': 7.7707, 'GYD': 207.8327, 'HKD': 7.85, 'HNL': 24.7776, 'HRK': 7.5424, 'HTG': 117.4358, 'HUF': 408.1358, 'IDR': 14869.0496, 'ILS': 3.4463, 'IMP': 0.8715, 'INR': 79.6321, 'IQD': 1449.9494, 'IRR': 41891.1389, 'ISK': 139.1444, 'JEP': 0.8715, 'JMD': 152.1918, 'JOD': 0.709, 'JPY': 143.2996, 'KES': 120.5901, 'KGS': 81.8138, 'KHR': 4081.2925, 'KID': 1.4895, 'KMF': 492.4829, 'KRW': 1395.8064, 'KWD': 0.2996, 'KYD': 0.8333, 'KZT': 474.7988, 'LAK': 17506.1922, 'LBP': 1507.5, 'LKR': 358.8722, 'LRD': 153.3182, 'LSL': 17.5453, 'LYD': 4.8911, 'MAD': 10.7519, 'MDL': 19.3278, 'MGA': 4129.2674, 'MKD': 61.4434, 'MMK': 2610.0063, 'MNT': 3219.1265, 'MOP': 8.0855, 'MRU': 37.5479, 'MUR': 44.5284, 'MVR': 15.4038, 'MWK': 1029.7026, 'MXN': 20.0676, 'MYR': 4.5213, 'MZN': 64.0839, 'NAD': 17.5453, 'NGN': 425.1424, 'NIO': 36.1126, 'NOK': 10.1582, 'NPR': 127.4091, 'NZD': 1.6744, 'OMR': 0.3845, 'PAB': 1.0, 'PEN': 3.8643, 'PGK': 3.5095, 'PHP': 57.2423, 'PKR': 233.8826, 'PLN': 4.7229, 'PYG': 6929.1815, 'QAR': 3.64, 'RON': 4.9277, 'RSD': 117.3813, 'RUB': 59.57, 'RWF': 1056.2557, 'SAR': 3.75, 'SBD': 8.0216, 'SCR': 13.0748, 'SDG': 565.3354, 'SEK': 10.726, 'SGD': 1.4085, 'SHP': 0.8715, 'SLE': 14.3532, 'SLL': 14353.1693, 'SOS': 564.7318, 'SRD': 26.8353, 'SSP': 645.5028, 'STN': 24.5257, 'SYP': 2489.7786, 'SZL': 17.5453, 'THB': 36.8754, 'TJS': 10.168, 'TMT': 3.4945, 'TND': 3.018, 'TOP': 2.367, 'TRY': 18.2822, 'TTD': 6.7578, 'TVD': 1.4895, 'TWD': 31.1285, 'TZS': 2324.7518, 'UAH': 37.1293, 'UGX': 3801.8668, 'UYU': 40.6563, 'UZS': 10871.6828, 'VES': 8.0277, 'VND': 23592.3919, 'VUV': 117.1599, 'WST': 2.6591, 'XAF': 656.6439, 'XCD': 2.7, 'XDR': 0.7707, 'XOF': 656.6439, 'XPF': 119.457, 'YER': 249.2886, 'ZAR': 17.5449, 'ZMW': 15.5587, 'ZWL': 603.5241}}\n"
     ]
    }
   ],
   "source": [
    "data = req.json()\n",
    "\n",
    "# Your JSON object\n",
    "print (data)"
   ],
   "metadata": {
    "collapsed": false,
    "pycharm": {
     "name": "#%%\n"
    }
   }
  },
  {
   "cell_type": "code",
   "execution_count": 16,
   "outputs": [
    {
     "name": "stdout",
     "output_type": "stream",
     "text": [
      "Valor 15000.0 em dollar valem 2889.282687418137\n"
     ]
    }
   ],
   "source": [
    "valor_reais = float(input(\"Valor em R$\"))\n",
    "\n",
    "cotacao  = data[\"conversion_rates\"][\"BRL\"]\n",
    "\n",
    "print(f\"Valor {valor_reais} em dollar valem {(valor_reais / cotacao)}\")"
   ],
   "metadata": {
    "collapsed": false,
    "pycharm": {
     "name": "#%%\n"
    }
   }
  },
  {
   "cell_type": "code",
   "execution_count": null,
   "outputs": [],
   "source": [],
   "metadata": {
    "collapsed": false,
    "pycharm": {
     "name": "#%%\n",
     "is_executing": true
    }
   }
  },
  {
   "cell_type": "code",
   "execution_count": 14,
   "outputs": [],
   "source": [],
   "metadata": {
    "collapsed": false,
    "pycharm": {
     "name": "#%%\n"
    }
   }
  }
 ],
 "metadata": {
  "kernelspec": {
   "display_name": "Python 3",
   "language": "python",
   "name": "python3"
  },
  "language_info": {
   "codemirror_mode": {
    "name": "ipython",
    "version": 2
   },
   "file_extension": ".py",
   "mimetype": "text/x-python",
   "name": "python",
   "nbconvert_exporter": "python",
   "pygments_lexer": "ipython2",
   "version": "2.7.6"
  }
 },
 "nbformat": 4,
 "nbformat_minor": 0
}