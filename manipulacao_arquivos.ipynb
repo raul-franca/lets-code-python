{
 "cells": [
  {
   "cell_type": "markdown",
   "source": [
    "### Aula 01 - Manipulação de Arquivos\n",
    "https://www.youtube.com/watch?v=x1zddEMl6nM&t=267s"
   ],
   "metadata": {
    "collapsed": false,
    "pycharm": {
     "name": "#%% md\n"
    }
   }
  },
  {
   "cell_type": "code",
   "execution_count": null,
   "outputs": [],
   "source": [
    "arquivo = open(\"texto.txt\",\"r\")\n",
    "texto  = arquivo.read()\n",
    "print(texto)\n",
    "arquivo.close()"
   ],
   "metadata": {
    "collapsed": false,
    "pycharm": {
     "name": "#%%\n",
     "is_executing": true
    }
   }
  },
  {
   "cell_type": "code",
   "execution_count": 2,
   "outputs": [
    {
     "name": "stdout",
     "output_type": "stream",
     "text": [
      "Lorem ipsum dolor sit amet, consectetur adipiscing elit. Aliquam tellus nunc, condimentum et sapien ut, imperdiet pretium risus. Donec pretium velit non nulla vulputate, nec mollis felis iaculis. Etiam feugiat finibus velit a vehicula. Fusce vitae odio tristique, luctus erat non, vehicula mi. Curabitur placerat arcu vitae venenatis condimentum. Cras cursus fringilla diam, ut facilisis nisi dapibus at. Nullam vestibulum fringilla finibus. Aliquam tempor dui sollicitudin dolor imperdiet, vitae feugiat eros feugiat. Quisque consequat sodales justo, vitae vulputate tortor faucibus ac. Pellentesque purus eros, lobortis vitae facilisis et, vestibulum at lectus.\n",
      " \n",
      " Nam sollicitudin efficitur volutpat. Suspendisse a aliquam augue. In fermentum libero id finibus egestas. Suspendisse a eleifend odio. Donec quis elit non neque mattis accumsan. Sed ipsum neque, dignissim ac imperdiet vel, semper sit amet ipsum. Vestibulum tempor tellus sit amet nunc euismod, nec pretium elit fermentum. Suspendisse id pulvinar sem. Aenean mauris massa, ultricies at ultricies quis, semper in justo. Ut eget libero turpis. Aenean pharetra elit a felis vulputate aliquam.\n",
      " \n",
      " Sed quis ante sit amet libero suscipit pharetra tempor ut massa. Maecenas imperdiet congue rhoncus. Nulla viverra condimentum sem non egestas. In hac habitasse platea dictumst. Cras posuere laoreet mi lobortis pretium. Donec tincidunt leo elit, at sodales orci egestas id. In leo odio, semper tristique ex ac, placerat auctor turpis. Donec sit amet bibendum elit.\n",
      " \n",
      " Maecenas pellentesque, risus vulputate eleifend vehicula, eros justo ornare mauris, ut sodales tortor neque vel mauris. Aenean tempor faucibus lectus tristique efficitur. Sed ipsum ex, feugiat at ipsum nec, malesuada tempor metus. Vivamus nibh neque, pharetra in sagittis vel, tincidunt non mi. Pellentesque habitant morbi tristique senectus et netus et malesuada fames ac turpis egestas. Maecenas varius interdum mauris, sed volutpat nulla placerat sed. Lorem ipsum dolor sit amet, consectetur adipiscing elit. Sed at tempor enim, quis fermentum mauris. Maecenas justo metus, pulvinar eu odio vitae, commodo euismod lectus. Pellentesque cursus eu erat quis fermentum. Morbi elementum sed tortor nec fringilla. Aenean porttitor condimentum risus a fermentum. Integer gravida metus leo, eget egestas enim consequat eget.\n",
      " \n",
      " Nunc neque ex, hendrerit sit amet fermentum ut, interdum ut purus. Sed aliquet, felis vel tempor accumsan, massa erat pulvinar lectus, gravida malesuada ipsum neque a arcu. Donec rhoncus dolor magna, vel elementum arcu feugiat et. Maecenas vitae vehicula nunc, nec tristique leo. Quisque quis diam risus. Proin eu blandit sapien. Nullam id ante ultricies, ultricies elit sit amet, varius sapien. Praesent venenatis, ante condimentum fringilla ornare, metus magna gravida metus, at varius elit felis eget tellus. Morbi congue sem vel elit accumsan sodales rutrum eu nunc. Donec justo turpis, cursus eu viverra sed, lacinia nec sem.\n",
      " \n",
      " "
     ]
    }
   ],
   "source": [
    "arquivo = open(\"texto.txt\",\"r\")\n",
    "linha = arquivo.readline()\n",
    "while linha != \"\":\n",
    "    print(linha,end=\" \")\n",
    "    linha = arquivo.readline()\n",
    "arquivo.close()"
   ],
   "metadata": {
    "collapsed": false,
    "pycharm": {
     "name": "#%%\n"
    }
   }
  },
  {
   "cell_type": "code",
   "execution_count": 3,
   "outputs": [
    {
     "name": "stdout",
     "output_type": "stream",
     "text": [
      "Lorem ipsum dolor sit amet, consectetur adipiscing elit. Aliquam tellus nunc, condimentum et sapien ut, imperdiet pretium risus. Donec pretium velit non nulla vulputate, nec mollis felis iaculis. Etiam feugiat finibus velit a vehicula. Fusce vitae odio tristique, luctus erat non, vehicula mi. Curabitur placerat arcu vitae venenatis condimentum. Cras cursus fringilla diam, ut facilisis nisi dapibus at. Nullam vestibulum fringilla finibus. Aliquam tempor dui sollicitudin dolor imperdiet, vitae feugiat eros feugiat. Quisque consequat sodales justo, vitae vulputate tortor faucibus ac. Pellentesque purus eros, lobortis vitae facilisis et, vestibulum at lectus.\n",
      " \n",
      " Nam sollicitudin efficitur volutpat. Suspendisse a aliquam augue. In fermentum libero id finibus egestas. Suspendisse a eleifend odio. Donec quis elit non neque mattis accumsan. Sed ipsum neque, dignissim ac imperdiet vel, semper sit amet ipsum. Vestibulum tempor tellus sit amet nunc euismod, nec pretium elit fermentum. Suspendisse id pulvinar sem. Aenean mauris massa, ultricies at ultricies quis, semper in justo. Ut eget libero turpis. Aenean pharetra elit a felis vulputate aliquam.\n",
      " \n",
      " Sed quis ante sit amet libero suscipit pharetra tempor ut massa. Maecenas imperdiet congue rhoncus. Nulla viverra condimentum sem non egestas. In hac habitasse platea dictumst. Cras posuere laoreet mi lobortis pretium. Donec tincidunt leo elit, at sodales orci egestas id. In leo odio, semper tristique ex ac, placerat auctor turpis. Donec sit amet bibendum elit.\n",
      " \n",
      " Maecenas pellentesque, risus vulputate eleifend vehicula, eros justo ornare mauris, ut sodales tortor neque vel mauris. Aenean tempor faucibus lectus tristique efficitur. Sed ipsum ex, feugiat at ipsum nec, malesuada tempor metus. Vivamus nibh neque, pharetra in sagittis vel, tincidunt non mi. Pellentesque habitant morbi tristique senectus et netus et malesuada fames ac turpis egestas. Maecenas varius interdum mauris, sed volutpat nulla placerat sed. Lorem ipsum dolor sit amet, consectetur adipiscing elit. Sed at tempor enim, quis fermentum mauris. Maecenas justo metus, pulvinar eu odio vitae, commodo euismod lectus. Pellentesque cursus eu erat quis fermentum. Morbi elementum sed tortor nec fringilla. Aenean porttitor condimentum risus a fermentum. Integer gravida metus leo, eget egestas enim consequat eget.\n",
      " \n",
      " Nunc neque ex, hendrerit sit amet fermentum ut, interdum ut purus. Sed aliquet, felis vel tempor accumsan, massa erat pulvinar lectus, gravida malesuada ipsum neque a arcu. Donec rhoncus dolor magna, vel elementum arcu feugiat et. Maecenas vitae vehicula nunc, nec tristique leo. Quisque quis diam risus. Proin eu blandit sapien. Nullam id ante ultricies, ultricies elit sit amet, varius sapien. Praesent venenatis, ante condimentum fringilla ornare, metus magna gravida metus, at varius elit felis eget tellus. Morbi congue sem vel elit accumsan sodales rutrum eu nunc. Donec justo turpis, cursus eu viverra sed, lacinia nec sem.\n",
      " \n",
      " "
     ]
    }
   ],
   "source": [
    "arquivo = open(\"texto.txt\",\"r\")\n",
    "for linha in arquivo:\n",
    "    print(linha,end=\" \")\n",
    "arquivo.close()"
   ],
   "metadata": {
    "collapsed": false,
    "pycharm": {
     "name": "#%%\n"
    }
   }
  },
  {
   "cell_type": "code",
   "execution_count": 4,
   "outputs": [
    {
     "name": "stdout",
     "output_type": "stream",
     "text": [
      "Lorem ipsum dolor sit amet, consectetur adipiscing elit. Aliquam tellus nunc, condimentum et sapien ut, imperdiet pretium risus. Donec pretium velit non nulla vulputate, nec mollis felis iaculis. Etiam feugiat finibus velit a vehicula. Fusce vitae odio tristique, luctus erat non, vehicula mi. Curabitur placerat arcu vitae venenatis condimentum. Cras cursus fringilla diam, ut facilisis nisi dapibus at. Nullam vestibulum fringilla finibus. Aliquam tempor dui sollicitudin dolor imperdiet, vitae feugiat eros feugiat. Quisque consequat sodales justo, vitae vulputate tortor faucibus ac. Pellentesque purus eros, lobortis vitae facilisis et, vestibulum at lectus.\n",
      "\n",
      "Nam sollicitudin efficitur volutpat. Suspendisse a aliquam augue. In fermentum libero id finibus egestas. Suspendisse a eleifend odio. Donec quis elit non neque mattis accumsan. Sed ipsum neque, dignissim ac imperdiet vel, semper sit amet ipsum. Vestibulum tempor tellus sit amet nunc euismod, nec pretium elit fermentum. Suspendisse id pulvinar sem. Aenean mauris massa, ultricies at ultricies quis, semper in justo. Ut eget libero turpis. Aenean pharetra elit a felis vulputate aliquam.\n",
      "\n",
      "Sed quis ante sit amet libero suscipit pharetra tempor ut massa. Maecenas imperdiet congue rhoncus. Nulla viverra condimentum sem non egestas. In hac habitasse platea dictumst. Cras posuere laoreet mi lobortis pretium. Donec tincidunt leo elit, at sodales orci egestas id. In leo odio, semper tristique ex ac, placerat auctor turpis. Donec sit amet bibendum elit.\n",
      "\n",
      "Maecenas pellentesque, risus vulputate eleifend vehicula, eros justo ornare mauris, ut sodales tortor neque vel mauris. Aenean tempor faucibus lectus tristique efficitur. Sed ipsum ex, feugiat at ipsum nec, malesuada tempor metus. Vivamus nibh neque, pharetra in sagittis vel, tincidunt non mi. Pellentesque habitant morbi tristique senectus et netus et malesuada fames ac turpis egestas. Maecenas varius interdum mauris, sed volutpat nulla placerat sed. Lorem ipsum dolor sit amet, consectetur adipiscing elit. Sed at tempor enim, quis fermentum mauris. Maecenas justo metus, pulvinar eu odio vitae, commodo euismod lectus. Pellentesque cursus eu erat quis fermentum. Morbi elementum sed tortor nec fringilla. Aenean porttitor condimentum risus a fermentum. Integer gravida metus leo, eget egestas enim consequat eget.\n",
      "\n",
      "Nunc neque ex, hendrerit sit amet fermentum ut, interdum ut purus. Sed aliquet, felis vel tempor accumsan, massa erat pulvinar lectus, gravida malesuada ipsum neque a arcu. Donec rhoncus dolor magna, vel elementum arcu feugiat et. Maecenas vitae vehicula nunc, nec tristique leo. Quisque quis diam risus. Proin eu blandit sapien. Nullam id ante ultricies, ultricies elit sit amet, varius sapien. Praesent venenatis, ante condimentum fringilla ornare, metus magna gravida metus, at varius elit felis eget tellus. Morbi congue sem vel elit accumsan sodales rutrum eu nunc. Donec justo turpis, cursus eu viverra sed, lacinia nec sem.\n",
      "\n",
      "\n"
     ]
    }
   ],
   "source": [
    "with open(\"texto.txt\",\"r\") as arquivo:\n",
    "    texto = arquivo.read()\n",
    "    print(texto)"
   ],
   "metadata": {
    "collapsed": false,
    "pycharm": {
     "name": "#%%\n"
    }
   }
  },
  {
   "cell_type": "code",
   "execution_count": 8,
   "outputs": [],
   "source": [
    "with open(\"teste.txt\",\"w\") as arquivo:\n",
    "    arquivo.write(\"linha 1 Nam sollicitudin efficitur volutpat. Suspendisse \\n\")\n",
    "    arquivo.write(\"linha 2 Nam sollicitudin efficitur volutpat. Suspendisse\\n\")"
   ],
   "metadata": {
    "collapsed": false,
    "pycharm": {
     "name": "#%%\n"
    }
   }
  },
  {
   "cell_type": "code",
   "execution_count": 11,
   "outputs": [
    {
     "name": "stdout",
     "output_type": "stream",
     "text": [
      "linha 1 Nam sollicitudin efficitur volutpat. Suspendisse \n",
      "linha 2 Nam sollicitudin efficitur volutpat. Suspendisse\n",
      "linha 3 Nam sollicitudin efficitur volutpat. Suspendisse\n",
      "\n"
     ]
    }
   ],
   "source": [
    "with open(\"teste.txt\",\"r\") as arquivo:\n",
    "    print(arquivo.read())"
   ],
   "metadata": {
    "collapsed": false,
    "pycharm": {
     "name": "#%%\n"
    }
   }
  },
  {
   "cell_type": "code",
   "execution_count": 10,
   "outputs": [],
   "source": [
    "with open(\"teste.txt\",\"a\") as arquivo:\n",
    "    arquivo.write(\"linha 3 Nam sollicitudin efficitur volutpat. Suspendisse\\n\")"
   ],
   "metadata": {
    "collapsed": false,
    "pycharm": {
     "name": "#%%\n"
    }
   }
  },
  {
   "cell_type": "code",
   "execution_count": null,
   "outputs": [],
   "source": [],
   "metadata": {
    "collapsed": false,
    "pycharm": {
     "name": "#%%\n"
    }
   }
  }
 ],
 "metadata": {
  "kernelspec": {
   "display_name": "Python 3",
   "language": "python",
   "name": "python3"
  },
  "language_info": {
   "codemirror_mode": {
    "name": "ipython",
    "version": 2
   },
   "file_extension": ".py",
   "mimetype": "text/x-python",
   "name": "python",
   "nbconvert_exporter": "python",
   "pygments_lexer": "ipython2",
   "version": "2.7.6"
  }
 },
 "nbformat": 4,
 "nbformat_minor": 0
}