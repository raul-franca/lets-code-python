{
 "cells": [
  {
   "cell_type": "markdown",
   "source": [
    "#### 1) Faça um programa que olhe todos os itens de uma lista e diga quantos deles são pares."
   ],
   "metadata": {
    "collapsed": false,
    "pycharm": {
     "name": "#%% md\n"
    }
   }
  },
  {
   "cell_type": "code",
   "execution_count": 8,
   "outputs": [
    {
     "name": "stdout",
     "output_type": "stream",
     "text": [
      "Lista de numeros: [1, 2, 3, 4, 5, 6, 7, 8, 9, 10, 11, 12, 13, 14, 15] \n",
      "Tem 7 par e 8 são impar\n"
     ]
    }
   ],
   "source": [
    "numeros = list(range(1,16))\n",
    "par = []\n",
    "impar = []\n",
    "for n in numeros :\n",
    "    if (n % 2) == 0 :\n",
    "        par.append(n)\n",
    "    else:\n",
    "        impar.append(n)\n",
    "\n",
    "print(f\"Lista de numeros: { numeros } \")\n",
    "print(f\"Tem {len(par)} par e {len(impar)} são impar\")"
   ],
   "metadata": {
    "collapsed": false,
    "pycharm": {
     "name": "#%%\n"
    }
   }
  },
  {
   "cell_type": "markdown",
   "source": [
    "#### 2. Faça um programa que peça para o usuario digitar uma palavra e imprima cada letra emuma linha.\n"
   ],
   "metadata": {
    "collapsed": false,
    "pycharm": {
     "name": "#%% md\n"
    }
   }
  },
  {
   "cell_type": "code",
   "execution_count": 9,
   "outputs": [
    {
     "name": "stdout",
     "output_type": "stream",
     "text": [
      "A\n",
      "u\n",
      "r\n",
      "o\n",
      "r\n",
      "a\n"
     ]
    }
   ],
   "source": [
    "palavra = input(\"Digite uma palavra:\")\n",
    "for letra in palavra :\n",
    "    print(letra)"
   ],
   "metadata": {
    "collapsed": false,
    "pycharm": {
     "name": "#%%\n"
    }
   }
  },
  {
   "cell_type": "markdown",
   "source": [
    "#### 3. Faça uma função que recebe duas listas e retorna a soma itém a itém dessas listas.\n"
   ],
   "metadata": {
    "collapsed": false,
    "pycharm": {
     "name": "#%% md\n"
    }
   }
  },
  {
   "cell_type": "code",
   "execution_count": 18,
   "outputs": [
    {
     "name": "stdout",
     "output_type": "stream",
     "text": [
      "[4, 6, 10]\n"
     ]
    }
   ],
   "source": [
    "lista1 = [1,2,4]\n",
    "lista2 = [3,4,6]\n",
    "def soma_itens_lista(list1,list2):\n",
    "    res = []\n",
    "    i = 0\n",
    "    while i != len(lista1):\n",
    "        res.append( list1[i] + lista2[i] )\n",
    "        i += 1\n",
    "    return res\n",
    "print(soma_itens_lista(lista1,lista2))"
   ],
   "metadata": {
    "collapsed": false,
    "pycharm": {
     "name": "#%%\n"
    }
   }
  },
  {
   "cell_type": "markdown",
   "source": [
    "#### 4. Crie um dicionário cujas chaves são os meses do ano e os valores são a duração (em dias) de cada mês.\n"
   ],
   "metadata": {
    "collapsed": false,
    "pycharm": {
     "name": "#%% md\n"
    }
   }
  },
  {
   "cell_type": "code",
   "execution_count": 20,
   "outputs": [
    {
     "name": "stdout",
     "output_type": "stream",
     "text": [
      "{'Janeiro': 31, 'Fevereiro': 28, 'Março': 31, 'Abril': 30, 'Maio': 31, 'Junho': 30, 'Julho': 31, 'Agosto': 31, 'Setembro': 30, 'Outubro': 31, 'Novembro': 30, 'Dezembro': 31} <class 'dict'>\n"
     ]
    }
   ],
   "source": [
    "qtd_dias_mes = {\n",
    "    'Janeiro' : 31,\n",
    "    'Fevereiro': 28,\n",
    "    'Março': 31,\n",
    "    'Abril': 30,\n",
    "    'Maio': 31,\n",
    "    'Junho': 30,\n",
    "    'Julho': 31,\n",
    "    'Agosto': 31,\n",
    "    'Setembro': 30,\n",
    "    'Outubro': 31,\n",
    "    'Novembro': 30,\n",
    "    'Dezembro': 31\n",
    "}\n",
    "print(qtd_dias_mes,type(qtd_dias_mes))"
   ],
   "metadata": {
    "collapsed": false,
    "pycharm": {
     "name": "#%%\n"
    }
   }
  },
  {
   "cell_type": "markdown",
   "source": [
    "#### 5) Imprima as chaves seguidas dos seus valores para dicionário criado no exercício anterior.\n",
    "#### ex: Janeiro - 31"
   ],
   "metadata": {
    "collapsed": false,
    "pycharm": {
     "name": "#%% md\n"
    }
   }
  },
  {
   "cell_type": "code",
   "execution_count": 21,
   "outputs": [
    {
     "name": "stdout",
     "output_type": "stream",
     "text": [
      " Janeiro - 31\n",
      " Fevereiro - 28\n",
      " Março - 31\n",
      " Abril - 30\n",
      " Maio - 31\n",
      " Junho - 30\n",
      " Julho - 31\n",
      " Agosto - 31\n",
      " Setembro - 30\n",
      " Outubro - 31\n",
      " Novembro - 30\n",
      " Dezembro - 31\n"
     ]
    }
   ],
   "source": [
    "for mes in qtd_dias_mes:\n",
    "    print(f\" {mes} - {qtd_dias_mes[mes]}\")"
   ],
   "metadata": {
    "collapsed": false,
    "pycharm": {
     "name": "#%%\n"
    }
   }
  },
  {
   "cell_type": "code",
   "execution_count": null,
   "outputs": [],
   "source": [],
   "metadata": {
    "collapsed": false,
    "pycharm": {
     "name": "#%%\n"
    }
   }
  }
 ],
 "metadata": {
  "kernelspec": {
   "display_name": "Python 3",
   "language": "python",
   "name": "python3"
  },
  "language_info": {
   "codemirror_mode": {
    "name": "ipython",
    "version": 2
   },
   "file_extension": ".py",
   "mimetype": "text/x-python",
   "name": "python",
   "nbconvert_exporter": "python",
   "pygments_lexer": "ipython2",
   "version": "2.7.6"
  }
 },
 "nbformat": 4,
 "nbformat_minor": 0
}