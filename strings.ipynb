{
 "cells": [
  {
   "cell_type": "code",
   "execution_count": 2,
   "outputs": [
    {
     "name": "stdout",
     "output_type": "stream",
     "text": [
      "['Recife', 'Caruaru', 'Jaboatão dos Guararapes', 'Olinda', 'Gravata'] 5\n"
     ]
    }
   ],
   "source": [
    "nomes_cidades = \"Recife, Caruaru, Jaboatão dos Guararapes, Olinda, Gravata\"\n",
    "ls_cidades = nomes_cidades.split(\", \")\n",
    "print(ls_cidades,len(ls_cidades))"
   ],
   "metadata": {
    "collapsed": false,
    "pycharm": {
     "name": "#%%\n"
    }
   }
  },
  {
   "cell_type": "code",
   "execution_count": 3,
   "outputs": [
    {
     "name": "stdout",
     "output_type": "stream",
     "text": [
      "Menu Principal\n"
     ]
    }
   ],
   "source": [
    "cabecalho = \"                  Menu Principal                    \"\n",
    "print(cabecalho.strip())"
   ],
   "metadata": {
    "collapsed": false,
    "pycharm": {
     "name": "#%%\n"
    }
   }
  },
  {
   "cell_type": "code",
   "execution_count": 7,
   "outputs": [
    {
     "name": "stdout",
     "output_type": "stream",
     "text": [
      "Caruaru É A Capital Do Forró\n",
      "Caruaru é a capital do forró\n",
      "caruaru é a capital do forró\n",
      "CARUARU É A CAPITAL DO FORRÓ\n"
     ]
    }
   ],
   "source": [
    "text = \"CaRuAru é a caPiTal do ForRó\"\n",
    "print(text.title())\n",
    "print(text.capitalize())\n",
    "print(text.lower())\n",
    "print(text.upper())"
   ],
   "metadata": {
    "collapsed": false,
    "pycharm": {
     "name": "#%%\n"
    }
   }
  },
  {
   "cell_type": "code",
   "execution_count": null,
   "outputs": [],
   "source": [
    "capital = input(\"Qual cidade é a capital do forró?\")\n",
    "capital = capital.strip()\n",
    "while capital.lower() != \"caruaru\":\n",
    "    print(\"Não tente novamente!\")\n",
    "    capital = input(\"Qual cidade é a capital do forró?\")\n",
    "\n",
    "print(\"Boa, é ela mesmo \", capital.capitalize())"
   ],
   "metadata": {
    "collapsed": false,
    "pycharm": {
     "name": "#%%\n",
     "is_executing": true
    }
   }
  },
  {
   "cell_type": "code",
   "execution_count": 10,
   "outputs": [
    {
     "name": "stdout",
     "output_type": "stream",
     "text": [
      "True\n"
     ]
    }
   ],
   "source": [
    "frase = \"Caruaru é a capital do forró\"\n",
    "palavra = \"caruaru\"\n",
    "print(palavra in frase.lower())"
   ],
   "metadata": {
    "collapsed": false,
    "pycharm": {
     "name": "#%%\n"
    }
   }
  },
  {
   "cell_type": "markdown",
   "source": [
    "Strings 2"
   ],
   "metadata": {
    "collapsed": false,
    "pycharm": {
     "name": "#%% md\n"
    }
   }
  },
  {
   "cell_type": "code",
   "execution_count": 11,
   "outputs": [
    {
     "name": "stdout",
     "output_type": "stream",
     "text": [
      "olá, Raul\n"
     ]
    }
   ],
   "source": [
    "hi = \"olá, \"\n",
    "nome = \"Raul\"\n",
    "print(hi + nome)"
   ],
   "metadata": {
    "collapsed": false,
    "pycharm": {
     "name": "#%%\n"
    }
   }
  },
  {
   "cell_type": "code",
   "execution_count": 12,
   "outputs": [
    {
     "name": "stdout",
     "output_type": "stream",
     "text": [
      "RaulRaulRaulRaulRaul\n"
     ]
    }
   ],
   "source": [
    "print( nome * 5 )"
   ],
   "metadata": {
    "collapsed": false,
    "pycharm": {
     "name": "#%%\n"
    }
   }
  },
  {
   "cell_type": "code",
   "execution_count": 16,
   "outputs": [
    {
     "name": "stdout",
     "output_type": "stream",
     "text": [
      "Raul tem 34 anos e 1 filha.\n"
     ]
    }
   ],
   "source": [
    "nome = \"Raul\"\n",
    "idade = 34\n",
    "n_filhos = 1\n",
    "print( nome + \" tem \" + str(idade) + \" anos e \" + str(n_filhos) + \" filha.\" )"
   ],
   "metadata": {
    "collapsed": false,
    "pycharm": {
     "name": "#%%\n"
    }
   }
  },
  {
   "cell_type": "code",
   "execution_count": 15,
   "outputs": [
    {
     "name": "stdout",
     "output_type": "stream",
     "text": [
      "Raul tem 34 anoes e 1 filha.\n"
     ]
    }
   ],
   "source": [
    "print(\"{} tem {} anoes e {} filha.\" .format(nome,idade,n_filhos))"
   ],
   "metadata": {
    "collapsed": false,
    "pycharm": {
     "name": "#%%\n"
    }
   }
  },
  {
   "cell_type": "code",
   "execution_count": 18,
   "outputs": [
    {
     "name": "stdout",
     "output_type": "stream",
     "text": [
      "Raul tem 34 anos e 1 filha.\n"
     ]
    }
   ],
   "source": [
    "print(f\"{nome} tem {idade} anos e {n_filhos} filha.\")"
   ],
   "metadata": {
    "collapsed": false,
    "pycharm": {
     "name": "#%%\n"
    }
   }
  },
  {
   "cell_type": "code",
   "execution_count": 17,
   "outputs": [
    {
     "name": "stdout",
     "output_type": "stream",
     "text": [
      " O preço da gasolina hoje é R$ 3.48\n"
     ]
    }
   ],
   "source": [
    "preco = 3.476\n",
    "print(\" O preço da gasolina hoje é R$ {:.2f}\" .format(preco))"
   ],
   "metadata": {
    "collapsed": false,
    "pycharm": {
     "name": "#%%\n"
    }
   }
  },
  {
   "cell_type": "code",
   "execution_count": null,
   "outputs": [],
   "source": [],
   "metadata": {
    "collapsed": false,
    "pycharm": {
     "name": "#%%\n"
    }
   }
  }
 ],
 "metadata": {
  "kernelspec": {
   "display_name": "Python 3",
   "language": "python",
   "name": "python3"
  },
  "language_info": {
   "codemirror_mode": {
    "name": "ipython",
    "version": 2
   },
   "file_extension": ".py",
   "mimetype": "text/x-python",
   "name": "python",
   "nbconvert_exporter": "python",
   "pygments_lexer": "ipython2",
   "version": "2.7.6"
  }
 },
 "nbformat": 4,
 "nbformat_minor": 0
}