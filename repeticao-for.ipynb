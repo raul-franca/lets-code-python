{
 "cells": [
  {
   "cell_type": "markdown",
   "source": [
    "### Aula 05 - Estruturas de Repetição - For\n",
    "https://www.youtube.com/watch?v=nHHBOzT7jYY&t=67s"
   ],
   "metadata": {
    "collapsed": false
   }
  },
  {
   "cell_type": "code",
   "execution_count": 2,
   "outputs": [
    {
     "name": "stdout",
     "output_type": "stream",
     "text": [
      "Recife\n",
      "Caruaru\n",
      "Gravatá\n",
      "Olinda\n"
     ]
    }
   ],
   "source": [
    "cidades = [\"Recife\", \"Caruaru\", \"Gravatá\",\"Olinda\" ]\n",
    "for nome in cidades :\n",
    "    print(nome)"
   ],
   "metadata": {
    "collapsed": false
   }
  },
  {
   "cell_type": "code",
   "execution_count": 3,
   "outputs": [
    {
     "name": "stdout",
     "output_type": "stream",
     "text": [
      "nome: Recife\n",
      "estado: Pernambuco\n",
      "area_km2: 218\n",
      "populacao_milhoes: 1.661\n"
     ]
    }
   ],
   "source": [
    "cidade = {\n",
    "    \"nome\" : \"Recife\",\n",
    "    \"estado\" : \"Pernambuco\",\n",
    "    \"area_km2\" : 218,\n",
    "    \"populacao_milhoes\" : 1.661\n",
    "}\n",
    "for chave in cidade :\n",
    "    print(f\"{chave}: {cidade[chave]}\")"
   ],
   "metadata": {
    "collapsed": false
   }
  },
  {
   "cell_type": "code",
   "execution_count": 5,
   "outputs": [
    {
     "name": "stdout",
     "output_type": "stream",
     "text": [
      "[0, 1, 2, 3, 4, 5, 6, 7, 8, 9]\n",
      "[2, 3, 4, 5, 6, 7, 8, 9]\n",
      "[2, 4, 6, 8]\n"
     ]
    }
   ],
   "source": [
    "print(list(range(10)))\n",
    "print(list(range(2, 10)))\n",
    "print(list(range(2, 10, 2)))"
   ],
   "metadata": {
    "collapsed": false
   }
  },
  {
   "cell_type": "code",
   "execution_count": null,
   "outputs": [],
   "source": [],
   "metadata": {
    "collapsed": false
   }
  },
  {
   "cell_type": "code",
   "execution_count": null,
   "outputs": [],
   "source": [
    "while True:\n",
    "    year = int(input(\"Type a year, or 0 to exit.\\n\"))\n",
    "    if year == 0:\n",
    "        print(\"Goodbye.\")\n",
    "        break\n",
    "    elif year % 4 == 0 and year % 100 != 0 or year % 400 == 0:\n",
    "        print(f\"{year} is a Leap year\")\n",
    "    else:\n",
    "        print(f\"{year} is a regular year\")\n"
   ],
   "metadata": {
    "collapsed": false
   }
  }
 ],
 "metadata": {
  "kernelspec": {
   "display_name": "Python 3",
   "language": "python",
   "name": "python3"
  },
  "language_info": {
   "codemirror_mode": {
    "name": "ipython",
    "version": 2
   },
   "file_extension": ".py",
   "mimetype": "text/x-python",
   "name": "python",
   "nbconvert_exporter": "python",
   "pygments_lexer": "ipython2",
   "version": "2.7.6"
  }
 },
 "nbformat": 4,
 "nbformat_minor": 0
}
