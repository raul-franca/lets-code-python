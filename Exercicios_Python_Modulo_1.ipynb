{
 "cells": [
  {
   "cell_type": "markdown",
   "source": [
    "##  Exercícios Módulo 1\n",
    "        From pdf Exercicios_Python_-_Modulo_1.pdf"
   ],
   "metadata": {
    "collapsed": false,
    "pycharm": {
     "name": "#%% md\n"
    }
   }
  },
  {
   "cell_type": "markdown",
   "source": [
    "### 1) Faça um programa que peça um valor monetário e diminua-o em 15%.\n",
    "### Seu programa deve imprimir a mensagem “O novo valor é [valor]”."
   ],
   "metadata": {
    "collapsed": false,
    "pycharm": {
     "name": "#%% md\n"
    }
   }
  },
  {
   "cell_type": "code",
   "execution_count": 8,
   "outputs": [
    {
     "name": "stdout",
     "output_type": "stream",
     "text": [
      "O valor = 50.0 diminuido de 15% é: 42.5\n"
     ]
    }
   ],
   "source": [
    "valor = input(\"Digite um valor moneterario:\")\n",
    "valor = float(valor)\n",
    "tax = valor * 0.15\n",
    "print( f\"O valor = {valor} diminuido de 15% é: {valor - tax}\" )"
   ],
   "metadata": {
    "collapsed": false,
    "pycharm": {
     "name": "#%%\n"
    }
   }
  },
  {
   "cell_type": "markdown",
   "source": [
    "### 2) Faça um programa que leia a validade das informações:\n",
    "#### a. Idade: entre 0 e 150;\n",
    "#### b. Salário: maior que 0;\n",
    "#### c. Sexo: M, F ou Outro;"
   ],
   "metadata": {
    "collapsed": false,
    "pycharm": {
     "name": "#%% md\n"
    }
   }
  },
  {
   "cell_type": "code",
   "execution_count": 1,
   "outputs": [],
   "source": [
    "idade = int(input(\"Qual a idade:\"))\n",
    "\n",
    "while idade < 0 or idade >150 :\n",
    "    idade = int(input(\"A idade de ser entre 0 e 150:\"))\n",
    "\n",
    "salario = float(input(\"Qual o salario:\"))\n",
    "while salario < 0 :\n",
    "    salario = float(input(\"Informe um salario maior que 0:\"))\n",
    "\n",
    "sexo = input(\"Qual o Sexo: M, F ou Outro\")\n",
    "sexo = sexo.lower()\n",
    "while sexo !=\"m\" and sexo !=\"f\" and sexo !=\"outro\" :\n",
    "    sexo = input(\"Digite uma entre as opcoes do sistema, Sexo: M, F ou Outro\")"
   ],
   "metadata": {
    "collapsed": false,
    "pycharm": {
     "name": "#%%\n"
    }
   }
  },
  {
   "cell_type": "markdown",
   "source": [
    "### 3) Vamos fazer um programa para verificar quem é o assassino de um crime. Para descobrir o assassino, a polícia faz um pequeno questionário com 5 perguntas onde a resposta só pode ser sim ou não:\n",
    "#### a. Mora perto da vítima?\n",
    "#### b. Já trabalhou com a vítima?\n",
    "#### c. Telefonou para a vítima?\n",
    "#### d. Esteve no local do crime?\n",
    "#### e. Devia para a vítima?\n",
    "\n",
    "### Cada resposta sim dá um ponto para o suspeito. A polícia considera que os suspeitos com 5 pontos são os assassinos, com 4 a 3 pontos são cúmplices e 2 pontos são apenas suspeitos, necessitando outras investigações. Valores iguais ou abaixo de 1 são liberados."
   ],
   "metadata": {
    "collapsed": false,
    "pycharm": {
     "name": "#%% md\n"
    }
   }
  },
  {
   "cell_type": "code",
   "execution_count": 6,
   "outputs": [
    {
     "name": "stdout",
     "output_type": "stream",
     "text": [
      "1\n"
     ]
    }
   ],
   "source": [
    "def s_ou_n(pergunta):\n",
    "    resposta = input(pergunta)\n",
    "    resposta = resposta.strip()\n",
    "\n",
    "    while resposta.lower() !=\"s\" and resposta.lower() !=\"n\" :\n",
    "        print(\"Responda com sim(s) ou nao(n).\")\n",
    "        resposta = input(pergunta)\n",
    "    if resposta.lower() == \"s\" :\n",
    "        return 1\n",
    "    else:\n",
    "        return 0\n"
   ],
   "metadata": {
    "collapsed": false,
    "pycharm": {
     "name": "#%%\n"
    }
   }
  },
  {
   "cell_type": "code",
   "execution_count": 13,
   "outputs": [
    {
     "name": "stdout",
     "output_type": "stream",
     "text": [
      "Assassino\n"
     ]
    }
   ],
   "source": [
    "nivel_supeita = 0\n",
    "res = s_ou_n(\"Mora perto da vítima? s/n\")\n",
    "nivel_supeita += res\n",
    "res = s_ou_n(\"Já trabalhou com a vítima? s/n\")\n",
    "nivel_supeita += res\n",
    "res = s_ou_n(\"Telefonou para a vítima? s/n\")\n",
    "nivel_supeita += res\n",
    "res = s_ou_n(\"Esteve no local do crime? s/n\")\n",
    "nivel_supeita += res\n",
    "res = s_ou_n(\"Devia para a vítima? s/n\")\n",
    "nivel_supeita += res\n",
    "\n",
    "if nivel_supeita == 5:\n",
    "    print(\"Assassino\")\n",
    "elif nivel_supeita < 5 and nivel_supeita > 2:\n",
    "    print(\"Cúmplice\")\n",
    "elif nivel_supeita == 2:\n",
    "    print(\"Suspeito\")\n",
    "else:\n",
    "    print(\"Liberado\")"
   ],
   "metadata": {
    "collapsed": false,
    "pycharm": {
     "name": "#%%\n"
    }
   }
  },
  {
   "cell_type": "markdown",
   "source": [
    "### 4) Faça um programa que imprima a tabuada do 9 (de 9x1 a 9x10) usando loops."
   ],
   "metadata": {
    "collapsed": false,
    "pycharm": {
     "name": "#%% md\n"
    }
   }
  },
  {
   "cell_type": "code",
   "execution_count": 15,
   "outputs": [
    {
     "name": "stdout",
     "output_type": "stream",
     "text": [
      "9 x 1 = 9\n",
      "9 x 2 = 18\n",
      "9 x 3 = 27\n",
      "9 x 4 = 36\n",
      "9 x 5 = 45\n",
      "9 x 6 = 54\n",
      "9 x 7 = 63\n",
      "9 x 8 = 72\n",
      "9 x 9 = 81\n"
     ]
    }
   ],
   "source": [
    "for n in range(1,10):\n",
    "    print(f\"9 x {n} = {9*n}\")"
   ],
   "metadata": {
    "collapsed": false,
    "pycharm": {
     "name": "#%%\n"
    }
   }
  },
  {
   "cell_type": "code",
   "execution_count": null,
   "outputs": [],
   "source": [],
   "metadata": {
    "collapsed": false,
    "pycharm": {
     "name": "#%%\n"
    }
   }
  }
 ],
 "metadata": {
  "kernelspec": {
   "display_name": "Python 3",
   "language": "python",
   "name": "python3"
  },
  "language_info": {
   "codemirror_mode": {
    "name": "ipython",
    "version": 2
   },
   "file_extension": ".py",
   "mimetype": "text/x-python",
   "name": "python",
   "nbconvert_exporter": "python",
   "pygments_lexer": "ipython2",
   "version": "2.7.6"
  }
 },
 "nbformat": 4,
 "nbformat_minor": 0
}